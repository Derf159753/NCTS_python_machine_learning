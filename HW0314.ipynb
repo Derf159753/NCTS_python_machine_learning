{
 "cells": [
  {
   "cell_type": "code",
   "execution_count": 27,
   "metadata": {},
   "outputs": [],
   "source": [
    "import matplotlib as plt\n",
    "import numpy as np\n",
    "from ipywidgets import interact, interactive, fixed, interact_manual\n",
    "import ipywidgets as widgets"
   ]
  },
  {
   "cell_type": "code",
   "execution_count": 19,
   "metadata": {},
   "outputs": [
    {
     "name": "stdout",
     "output_type": "stream",
     "text": [
      "100\n",
      "100\n"
     ]
    }
   ],
   "source": [
    "num=input()\n",
    "num=int(num)\n",
    "print(num)"
   ]
  },
  {
   "cell_type": "code",
   "execution_count": 20,
   "metadata": {
    "scrolled": true
   },
   "outputs": [
    {
     "name": "stdout",
     "output_type": "stream",
     "text": [
      "[ -6.20843056e-01   5.84268017e-01   1.53029333e+00  -1.28077023e-02\n",
      "   6.60366116e-01  -4.97483666e-01   7.40505258e-01   3.28115503e-02\n",
      "  -3.10040424e-01  -1.08280610e+00  -1.38549814e+00  -3.94778293e-01\n",
      "  -2.36106552e-03  -1.30080989e+00  -7.16247728e-02   1.04689580e+00\n",
      "  -1.23133740e+00  -2.15360740e+00  -2.06267095e+00  -9.72970104e-01\n",
      "  -1.18117917e+00  -5.62090652e-01  -5.21853735e-01  -1.50697484e+00\n",
      "  -1.46460224e+00   1.21124712e+00  -1.67738079e+00  -8.12485347e-01\n",
      "   1.29343602e-01  -4.82260483e-01  -1.88556560e+00  -1.12829533e+00\n",
      "  -7.61265262e-01   2.70899466e-01  -4.64601125e-01   7.02879143e-01\n",
      "  -9.09030770e-01   2.08890821e+00   1.14165454e+00  -1.11003583e+00\n",
      "  -1.14552078e+00   2.50439090e+00  -1.01672595e+00   1.02061779e-01\n",
      "   1.17972354e+00  -1.64171697e+00   1.34185664e+00   1.70347496e+00\n",
      "  -6.46333962e-01  -4.23610487e-01   1.60642835e-01  -1.52863792e-01\n",
      "   4.12297113e-01   5.53279369e-01  -3.07916781e-01  -1.22540561e+00\n",
      "   5.93375035e-01  -2.26762561e-02   1.15892633e+00   1.33587914e+00\n",
      "  -2.93633174e-03   2.61992315e-01   2.42240967e+00  -2.94536953e-01\n",
      "   2.08643740e-01   1.86249274e+00  -3.10623131e-01  -1.10115243e+00\n",
      "   5.49803640e-01  -6.25084779e-01   8.54175321e-01  -7.98476548e-01\n",
      "   1.80910023e-01   1.36831170e+00  -6.94679565e-01   7.47268619e-01\n",
      "   1.67374383e+00  -6.83044327e-01  -9.22062280e-01   1.35552422e+00\n",
      "  -2.72046736e-01   5.16499255e-01   9.61534170e-02   1.20004861e+00\n",
      "  -9.52523358e-01   4.49149009e-01  -9.84953781e-01  -1.68366636e-02\n",
      "  -2.42589094e+00  -6.69157878e-01  -7.35195359e-01   2.49735159e+00\n",
      "  -2.87623024e-01   3.83379540e-01   1.17481536e+00  -1.74198237e+00\n",
      "   5.56937150e-01  -6.16097790e-03  -2.11083816e+00   4.43879929e-01]\n"
     ]
    }
   ],
   "source": [
    "data=np.random.randn(num)\n",
    "print(data)"
   ]
  },
  {
   "cell_type": "code",
   "execution_count": 25,
   "metadata": {
    "scrolled": true
   },
   "outputs": [
    {
     "data": {
      "text/plain": [
       "(array([  4.,   6.,  14.,  17.,  17.,  13.,  10.,  11.,   4.,   4.]),\n",
       " array([-2.42589094, -1.93286276, -1.43983457, -0.94680639, -0.45377821,\n",
       "         0.03924998,  0.53227816,  1.02530635,  1.51833453,  2.01136271,\n",
       "         2.5043909 ]),\n",
       " <a list of 10 Patch objects>)"
      ]
     },
     "execution_count": 25,
     "metadata": {},
     "output_type": "execute_result"
    },
    {
     "data": {
      "image/png": "[encoded data removed]",
      "text/plain": [
       "<Figure size 432x288 with 1 Axes>"
      ]
     },
     "metadata": {
      "needs_background": "light"
     },
     "output_type": "display_data"
    }
   ],
   "source": [
    "plt.hist(data)"
   ]
  },
  {
   "cell_type": "code",
   "execution_count": 61,
   "metadata": {},
   "outputs": [
    {
     "data": {
      "application/vnd.jupyter.widget-view+json": {
       "model_id": "a00c8b43fd9c4bff9eb850fe763f0098",
       "version_major": 2,
       "version_minor": 0
      },
      "text/plain": [
       "interactive(children=(IntSlider(value=5000, description='num', max=10000, min=100, step=100), Output()), _dom_…"
      ]
     },
     "metadata": {},
     "output_type": "display_data"
    }
   ],
   "source": [
    "def ran(num):\n",
    "    data=np.random.randn(num)\n",
    "    print(data)\n",
    "    plt.pyplot.hist(data)\n",
    "    return data\n",
    "\n",
    "interact (ran,num=(100,10000,100));"
   ]
  }
 ],
 "metadata": {
  "kernelspec": {
   "display_name": "Python 3",
   "language": "python",
   "name": "python3"
  },
  "language_info": {
   "codemirror_mode": {
    "name": "ipython",
    "version": 3
   },
   "file_extension": ".py",
   "mimetype": "text/x-python",
   "name": "python",
   "nbconvert_exporter": "python",
   "pygments_lexer": "ipython3",
   "version": "3.7.0"
  }
 },
 "nbformat": 4,
 "nbformat_minor": 2
}
