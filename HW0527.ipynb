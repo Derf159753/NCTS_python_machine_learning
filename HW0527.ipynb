{
 "cells": [
  {
   "cell_type": "markdown",
   "metadata": {},
   "source": [
    "組員：\n",
    "R07228022 黃亭樺\n",
    "共一人"
   ]
  },
  {
   "cell_type": "markdown",
   "metadata": {},
   "source": [
    "主題：\n",
    "分辨被瘧疾感染之細胞圖片\n",
    "\n",
    "介紹：\n",
    "資料來源取自Kaggle的資料集，內容包括27558張png檔，分成感染以及非感染，各佔一半。\n",
    "資料集本身已經分好感染及非感染了，所以不需要另外分，但是資料圖片的長寬比和解析度都不同，需要處理。\n",
    "\n",
    "實作方法：\n",
    "先利用resize方法將圖片的長寬比重新調整為一致的，接著嘗試各種不同的神經網路架設方式，看看如何能夠提高精確度。"
   ]
  },
  {
   "cell_type": "markdown",
   "metadata": {},
   "source": [
    "專案排程：\n",
    "~6/1完成圖片的長寬比統一\n",
    "~6/3先以過去建立的神經網路進行測試\n",
    "~6/5嘗試融合其他機器學習演算法如KNN、SVM\n",
    "~期末報告，就已經完成的成果撰寫書面報告\n",
    "目前進度：\n",
    "統一圖片的長寬比"
   ]
  }
 ],
 "metadata": {
  "kernelspec": {
   "display_name": "Python 3",
   "language": "python",
   "name": "python3"
  },
  "language_info": {
   "codemirror_mode": {
    "name": "ipython",
    "version": 3
   },
   "file_extension": ".py",
   "mimetype": "text/x-python",
   "name": "python",
   "nbconvert_exporter": "python",
   "pygments_lexer": "ipython3",
   "version": "3.7.0"
  }
 },
 "nbformat": 4,
 "nbformat_minor": 2
}
