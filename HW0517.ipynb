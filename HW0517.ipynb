{
 "cells": [
  {
   "cell_type": "code",
   "execution_count": 1,
   "metadata": {},
   "outputs": [
    {
     "name": "stdout",
     "output_type": "stream",
     "text": [
      "env: KERAS_BACKEND=tensorflow\n"
     ]
    }
   ],
   "source": [
    "%env KERAS_BACKEND=tensorflow"
   ]
  },
  {
   "cell_type": "code",
   "execution_count": 23,
   "metadata": {},
   "outputs": [],
   "source": [
    "import numpy as np\n",
    "import matplotlib.pyplot as plt\n",
    "from keras.datasets import imdb\n",
    "from keras.preprocessing import sequence\n",
    "from keras.models import Sequential\n",
    "from keras.layers import Dense, Embedding,LSTM\n",
    "from keras.optimizers import SGD"
   ]
  },
  {
   "cell_type": "code",
   "execution_count": 3,
   "metadata": {},
   "outputs": [
    {
     "name": "stdout",
     "output_type": "stream",
     "text": [
      "25000\n",
      "[1, 24, 252, 48, 146, 6325, 8, 148, 37, 8382, 14, 6, 374, 1606, 42, 8, 4, 167, 2113, 2243, 252, 9, 31, 1162, 2, 20, 10, 10, 4, 114, 9, 6, 2, 2, 2, 7, 1731, 108, 40, 5146, 2, 5, 605, 5, 521, 2284, 214, 3531, 11, 4, 2, 34, 6, 2, 7, 2, 758, 4, 2687, 272, 53, 40, 6, 1547, 1198, 11, 2713, 4, 5105, 9, 40, 6, 604, 7, 7286, 37, 1135, 187, 11, 1073, 543, 405, 2195, 2298, 2, 7, 2, 2, 5, 4, 2, 2202, 11, 1522, 39, 428, 8, 2188, 8, 328, 8, 9318, 13, 1408, 4748, 43, 7258, 259, 37, 610, 60, 1076, 5377, 18, 14, 5112, 10, 10, 8, 97, 2294, 433, 14, 22, 47, 3282, 3722, 599, 57, 147, 2629, 5, 6, 176, 7, 1744, 9093, 24, 253, 13, 70, 169, 142, 8, 40, 11, 43, 44, 101, 2928, 1122, 42, 8874, 1157, 22, 14, 31, 43, 1583, 96, 346, 10, 10, 241, 46, 7, 158, 362]\n"
     ]
    }
   ],
   "source": [
    "(x_train, y_train), (x_test, y_test) = imdb.load_data(num_words=10000)\n",
    "print(len(x_train))\n",
    "print(x_train[19888])"
   ]
  },
  {
   "cell_type": "code",
   "execution_count": 4,
   "metadata": {},
   "outputs": [],
   "source": [
    "x_train = sequence.pad_sequences(x_train, maxlen=150)\n",
    "x_test = sequence.pad_sequences(x_test, maxlen=150)"
   ]
  },
  {
   "cell_type": "code",
   "execution_count": 5,
   "metadata": {},
   "outputs": [],
   "source": [
    "N = 5 \n",
    "K = 4 "
   ]
  },
  {
   "cell_type": "code",
   "execution_count": 6,
   "metadata": {},
   "outputs": [
    {
     "name": "stdout",
     "output_type": "stream",
     "text": [
      "WARNING:tensorflow:From D:\\anaconda\\lib\\site-packages\\tensorflow\\python\\framework\\op_def_library.py:263: colocate_with (from tensorflow.python.framework.ops) is deprecated and will be removed in a future version.\n",
      "Instructions for updating:\n",
      "Colocations handled automatically by placer.\n"
     ]
    }
   ],
   "source": [
    "model1 = Sequential()\n",
    "model1.add(Embedding(10000, N))"
   ]
  },
  {
   "cell_type": "code",
   "execution_count": 7,
   "metadata": {},
   "outputs": [],
   "source": [
    "model1.add(LSTM(K))\n",
    "model1.add(Dense(1, activation='sigmoid'))"
   ]
  },
  {
   "cell_type": "code",
   "execution_count": 8,
   "metadata": {},
   "outputs": [
    {
     "name": "stdout",
     "output_type": "stream",
     "text": [
      "_________________________________________________________________\n",
      "Layer (type)                 Output Shape              Param #   \n",
      "=================================================================\n",
      "embedding_1 (Embedding)      (None, None, 5)           50000     \n",
      "_________________________________________________________________\n",
      "lstm_1 (LSTM)                (None, 4)                 160       \n",
      "_________________________________________________________________\n",
      "dense_1 (Dense)              (None, 1)                 5         \n",
      "=================================================================\n",
      "Total params: 50,165\n",
      "Trainable params: 50,165\n",
      "Non-trainable params: 0\n",
      "_________________________________________________________________\n"
     ]
    }
   ],
   "source": [
    "model1.compile(loss='binary_crossentropy',\n",
    "             optimizer='adam',\n",
    "             metrics=['accuracy'])\n",
    "model1.summary()"
   ]
  },
  {
   "cell_type": "code",
   "execution_count": 9,
   "metadata": {},
   "outputs": [
    {
     "name": "stdout",
     "output_type": "stream",
     "text": [
      "WARNING:tensorflow:From D:\\anaconda\\lib\\site-packages\\tensorflow\\python\\ops\\math_ops.py:3066: to_int32 (from tensorflow.python.ops.math_ops) is deprecated and will be removed in a future version.\n",
      "Instructions for updating:\n",
      "Use tf.cast instead.\n",
      "Epoch 1/5\n",
      "25000/25000 [==============================] - 62s 2ms/step - loss: 0.4997 - acc: 0.7576\n",
      "Epoch 2/5\n",
      "25000/25000 [==============================] - 68s 3ms/step - loss: 0.2934 - acc: 0.8887\n",
      "Epoch 3/5\n",
      "25000/25000 [==============================] - 76s 3ms/step - loss: 0.2236 - acc: 0.9174\n",
      "Epoch 4/5\n",
      "25000/25000 [==============================] - 71s 3ms/step - loss: 0.1810 - acc: 0.9385\n",
      "Epoch 5/5\n",
      "25000/25000 [==============================] - 74s 3ms/step - loss: 0.1521 - acc: 0.9497\n"
     ]
    },
    {
     "data": {
      "text/plain": [
       "<keras.callbacks.History at 0x1b0c7c7edd8>"
      ]
     },
     "execution_count": 9,
     "metadata": {},
     "output_type": "execute_result"
    }
   ],
   "source": [
    "model1.fit(x_train, y_train,\n",
    "         batch_size=32,\n",
    "         epochs=5)"
   ]
  },
  {
   "cell_type": "code",
   "execution_count": 10,
   "metadata": {},
   "outputs": [
    {
     "name": "stdout",
     "output_type": "stream",
     "text": [
      "25000/25000 [==============================] - 5s 216us/step\n",
      "0.8548\n"
     ]
    }
   ],
   "source": [
    "score1 = model1.evaluate(x_test, y_test)\n",
    "print(score1[1])"
   ]
  },
  {
   "cell_type": "code",
   "execution_count": 11,
   "metadata": {},
   "outputs": [],
   "source": [
    "x_train2 = sequence.pad_sequences(x_train, maxlen=250)\n",
    "x_test2 = sequence.pad_sequences(x_test, maxlen=250)"
   ]
  },
  {
   "cell_type": "code",
   "execution_count": 12,
   "metadata": {},
   "outputs": [
    {
     "name": "stdout",
     "output_type": "stream",
     "text": [
      "Epoch 1/5\n",
      "25000/25000 [==============================] - 114s 5ms/step - loss: 0.4979 - acc: 0.7632\n",
      "Epoch 2/5\n",
      "25000/25000 [==============================] - 112s 4ms/step - loss: 0.2880 - acc: 0.8920\n",
      "Epoch 3/5\n",
      "25000/25000 [==============================] - 114s 5ms/step - loss: 0.2196 - acc: 0.9210\n",
      "Epoch 4/5\n",
      "25000/25000 [==============================] - 116s 5ms/step - loss: 0.1815 - acc: 0.9366\n",
      "Epoch 5/5\n",
      "25000/25000 [==============================] - 113s 5ms/step - loss: 0.1502 - acc: 0.9518\n"
     ]
    },
    {
     "data": {
      "text/plain": [
       "<keras.callbacks.History at 0x1b0cc6123c8>"
      ]
     },
     "execution_count": 12,
     "metadata": {},
     "output_type": "execute_result"
    }
   ],
   "source": [
    "model2 = Sequential()\n",
    "model2.add(Embedding(10000, N))\n",
    "model2.add(LSTM(K))\n",
    "model2.add(Dense(1, activation='sigmoid'))\n",
    "model2.compile(loss='binary_crossentropy',\n",
    "             optimizer='adam',\n",
    "             metrics=['accuracy'])\n",
    "model2.fit(x_train2, y_train,\n",
    "         batch_size=32,\n",
    "         epochs=5)"
   ]
  },
  {
   "cell_type": "code",
   "execution_count": 13,
   "metadata": {},
   "outputs": [
    {
     "name": "stdout",
     "output_type": "stream",
     "text": [
      "25000/25000 [==============================] - 9s 355us/step\n",
      "0.85472\n"
     ]
    }
   ],
   "source": [
    "score2 = model2.evaluate(x_test2, y_test)\n",
    "print(score2[1])"
   ]
  },
  {
   "cell_type": "code",
   "execution_count": 14,
   "metadata": {},
   "outputs": [],
   "source": [
    "x_train3 = sequence.pad_sequences(x_train, maxlen=100)\n",
    "x_test3 = sequence.pad_sequences(x_test, maxlen=100)"
   ]
  },
  {
   "cell_type": "code",
   "execution_count": 15,
   "metadata": {},
   "outputs": [
    {
     "name": "stdout",
     "output_type": "stream",
     "text": [
      "Epoch 1/5\n",
      "25000/25000 [==============================] - 43s 2ms/step - loss: 0.5138 - acc: 0.7638\n",
      "Epoch 2/5\n",
      "25000/25000 [==============================] - 46s 2ms/step - loss: 0.3152 - acc: 0.8789\n",
      "Epoch 3/5\n",
      "25000/25000 [==============================] - 46s 2ms/step - loss: 0.2468 - acc: 0.9101\n",
      "Epoch 4/5\n",
      "25000/25000 [==============================] - 47s 2ms/step - loss: 0.2088 - acc: 0.9272\n",
      "Epoch 5/5\n",
      "25000/25000 [==============================] - 45s 2ms/step - loss: 0.1823 - acc: 0.9378\n"
     ]
    },
    {
     "data": {
      "text/plain": [
       "<keras.callbacks.History at 0x1b0ce90a940>"
      ]
     },
     "execution_count": 15,
     "metadata": {},
     "output_type": "execute_result"
    }
   ],
   "source": [
    "model3 = Sequential()\n",
    "model3.add(Embedding(10000, N))\n",
    "model3.add(LSTM(K))\n",
    "model3.add(Dense(1, activation='sigmoid'))\n",
    "model3.compile(loss='binary_crossentropy',\n",
    "             optimizer='adam',\n",
    "             metrics=['accuracy'])\n",
    "model3.fit(x_train3, y_train,\n",
    "         batch_size=32,\n",
    "         epochs=5)"
   ]
  },
  {
   "cell_type": "code",
   "execution_count": 16,
   "metadata": {},
   "outputs": [
    {
     "name": "stdout",
     "output_type": "stream",
     "text": [
      "25000/25000 [==============================] - 9s 361us/step\n",
      "0.85076\n"
     ]
    }
   ],
   "source": [
    "score3 = model3.evaluate(x_test2, y_test)\n",
    "print(score3[1])"
   ]
  },
  {
   "cell_type": "code",
   "execution_count": 17,
   "metadata": {},
   "outputs": [
    {
     "name": "stdout",
     "output_type": "stream",
     "text": [
      "Epoch 1/5\n",
      "25000/25000 [==============================] - 41s 2ms/step - loss: 0.1606 - acc: 0.7702\n",
      "Epoch 2/5\n",
      "25000/25000 [==============================] - 45s 2ms/step - loss: 0.0877 - acc: 0.8858\n",
      "Epoch 3/5\n",
      "25000/25000 [==============================] - 45s 2ms/step - loss: 0.0696 - acc: 0.9122\n",
      "Epoch 4/5\n",
      "25000/25000 [==============================] - 45s 2ms/step - loss: 0.0576 - acc: 0.9304\n",
      "Epoch 5/5\n",
      "25000/25000 [==============================] - 44s 2ms/step - loss: 0.0507 - acc: 0.9399\n"
     ]
    },
    {
     "data": {
      "text/plain": [
       "<keras.callbacks.History at 0x1b0ce9eccf8>"
      ]
     },
     "execution_count": 17,
     "metadata": {},
     "output_type": "execute_result"
    }
   ],
   "source": [
    "model4 = Sequential()\n",
    "model4.add(Embedding(10000, N))\n",
    "model4.add(LSTM(K))\n",
    "model4.add(Dense(1, activation='sigmoid'))\n",
    "model4.compile(loss='mse',\n",
    "             optimizer='adam',\n",
    "             metrics=['accuracy'])\n",
    "model4.fit(x_train3, y_train,\n",
    "         batch_size=32,\n",
    "         epochs=5)"
   ]
  },
  {
   "cell_type": "code",
   "execution_count": 18,
   "metadata": {},
   "outputs": [
    {
     "name": "stdout",
     "output_type": "stream",
     "text": [
      "25000/25000 [==============================] - 12s 488us/step\n",
      "0.84936\n"
     ]
    }
   ],
   "source": [
    "score4 = model4.evaluate(x_test2, y_test)\n",
    "print(score4[1])"
   ]
  },
  {
   "cell_type": "code",
   "execution_count": 19,
   "metadata": {},
   "outputs": [
    {
     "name": "stdout",
     "output_type": "stream",
     "text": [
      "Epoch 1/5\n",
      "25000/25000 [==============================] - 43s 2ms/step - loss: 0.6773 - acc: 0.6809\n",
      "Epoch 2/5\n",
      "25000/25000 [==============================] - 47s 2ms/step - loss: 0.3179 - acc: 0.8702\n",
      "Epoch 3/5\n",
      "25000/25000 [==============================] - 46s 2ms/step - loss: 0.2717 - acc: 0.8922\n",
      "Epoch 4/5\n",
      "25000/25000 [==============================] - 49s 2ms/step - loss: 0.2315 - acc: 0.9166\n",
      "Epoch 5/5\n",
      "25000/25000 [==============================] - 52s 2ms/step - loss: 0.1955 - acc: 0.9279\n"
     ]
    },
    {
     "data": {
      "text/plain": [
       "<keras.callbacks.History at 0x1b0d3b34780>"
      ]
     },
     "execution_count": 19,
     "metadata": {},
     "output_type": "execute_result"
    }
   ],
   "source": [
    "model5 = Sequential()\n",
    "model5.add(Embedding(10000, N))\n",
    "model5.add(LSTM(K))\n",
    "model5.add(Dense(1, activation='relu'))\n",
    "model5.compile(loss='binary_crossentropy',\n",
    "             optimizer='adam',\n",
    "             metrics=['accuracy'])\n",
    "model5.fit(x_train3, y_train,\n",
    "         batch_size=32,\n",
    "         epochs=5)"
   ]
  },
  {
   "cell_type": "code",
   "execution_count": 20,
   "metadata": {},
   "outputs": [
    {
     "name": "stdout",
     "output_type": "stream",
     "text": [
      "25000/25000 [==============================] - 9s 367us/step\n",
      "0.83872\n"
     ]
    }
   ],
   "source": [
    "score5 = model5.evaluate(x_test2, y_test)\n",
    "print(score5[1])"
   ]
  },
  {
   "cell_type": "code",
   "execution_count": 25,
   "metadata": {},
   "outputs": [
    {
     "name": "stdout",
     "output_type": "stream",
     "text": [
      "Epoch 1/5\n",
      "25000/25000 [==============================] - 45s 2ms/step - loss: 0.6930 - acc: 0.5117\n",
      "Epoch 2/5\n",
      "25000/25000 [==============================] - 44s 2ms/step - loss: 0.6682 - acc: 0.5824\n",
      "Epoch 3/5\n",
      "25000/25000 [==============================] - 46s 2ms/step - loss: 0.5964 - acc: 0.6813\n",
      "Epoch 4/5\n",
      "25000/25000 [==============================] - 45s 2ms/step - loss: 0.5466 - acc: 0.7282\n",
      "Epoch 5/5\n",
      "25000/25000 [==============================] - 47s 2ms/step - loss: 0.4510 - acc: 0.7918\n"
     ]
    },
    {
     "data": {
      "text/plain": [
       "<keras.callbacks.History at 0x1b0d7940f98>"
      ]
     },
     "execution_count": 25,
     "metadata": {},
     "output_type": "execute_result"
    }
   ],
   "source": [
    "model6 = Sequential()\n",
    "model6.add(Embedding(10000, N))\n",
    "model6.add(LSTM(K))\n",
    "model6.add(Dense(1, activation='sigmoid'))\n",
    "model6.compile(loss='binary_crossentropy',\n",
    "             optimizer=SGD(lr=0.25),\n",
    "             metrics=['accuracy'])\n",
    "model6.fit(x_train3, y_train,\n",
    "         batch_size=32,\n",
    "         epochs=5)"
   ]
  },
  {
   "cell_type": "code",
   "execution_count": 26,
   "metadata": {},
   "outputs": [
    {
     "name": "stdout",
     "output_type": "stream",
     "text": [
      "25000/25000 [==============================] - 9s 365us/step\n",
      "0.83024\n"
     ]
    }
   ],
   "source": [
    "score6 = model6.evaluate(x_test2, y_test)\n",
    "print(score6[1])"
   ]
  },
  {
   "cell_type": "markdown",
   "metadata": {},
   "source": [
    "模式一、二、三比較原始資料的長度是否影響精確度\n",
    "分別將maxlen設定成150,250,100\n",
    "結果顯示沒有太大影響，不過資料長度短會比較快算完\n",
    "接下來看看不同的loss function,optimizer,activation的不同\n",
    "因為計算速度方便所以長度都設定成100\n",
    "模式四把loss function改成mse\n",
    "模式五把activation改成relu\n",
    "模式六把optimizer改成SGD(lr=0.25)\n",
    "結果發現模式五和模式六會導致精確度略為下降，但影響還是有限"
   ]
  }
 ],
 "metadata": {
  "kernelspec": {
   "display_name": "Python 3",
   "language": "python",
   "name": "python3"
  },
  "language_info": {
   "codemirror_mode": {
    "name": "ipython",
    "version": 3
   },
   "file_extension": ".py",
   "mimetype": "text/x-python",
   "name": "python",
   "nbconvert_exporter": "python",
   "pygments_lexer": "ipython3",
   "version": "3.7.0"
  }
 },
 "nbformat": 4,
 "nbformat_minor": 2
}
