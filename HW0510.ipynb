{
 "cells": [
  {
   "cell_type": "code",
   "execution_count": 3,
   "metadata": {},
   "outputs": [
    {
     "name": "stdout",
     "output_type": "stream",
     "text": [
      "env: KERAS_BACKEND=tensorflow\n"
     ]
    }
   ],
   "source": [
    "%env KERAS_BACKEND=tensorflow\n",
    "import numpy as np\n",
    "import matplotlib.pyplot as plt\n",
    "from keras.datasets import mnist\n",
    "from keras.utils import np_utils"
   ]
  },
  {
   "cell_type": "code",
   "execution_count": 2,
   "metadata": {},
   "outputs": [],
   "source": [
    "(x_train, y_train), (x_test, y_test) = mnist.load_data()"
   ]
  },
  {
   "cell_type": "code",
   "execution_count": 4,
   "metadata": {},
   "outputs": [],
   "source": [
    "x_train = x_train.reshape(60000, 28, 28, 1)\n",
    "x_test = x_test.reshape(10000, 28, 28, 1)\n",
    "y_train = np_utils.to_categorical(y_train, 10)\n",
    "y_test = np_utils.to_categorical(y_test, 10)"
   ]
  },
  {
   "cell_type": "code",
   "execution_count": 5,
   "metadata": {},
   "outputs": [],
   "source": [
    "from keras.models import Sequential\n",
    "from keras.layers import Dense, Activation, Flatten\n",
    "from keras.layers import Conv2D, MaxPool2D\n",
    "from keras.optimizers import SGD"
   ]
  },
  {
   "cell_type": "markdown",
   "metadata": {},
   "source": [
    "模式一：\n",
    "三層CNN，細胞數為3,6,8遮罩大小5*5"
   ]
  },
  {
   "cell_type": "code",
   "execution_count": 12,
   "metadata": {},
   "outputs": [],
   "source": [
    "model1 = Sequential()\n",
    "\n",
    "model1.add(Conv2D(3, (5, 5), padding='same', input_shape=(28, 28, 1)))\n",
    "model1.add(Activation('relu'))\n",
    "model1.add(MaxPool2D(pool_size=(2,2)))\n",
    "\n",
    "model1.add(Conv2D(6, (5, 5), padding='same', input_shape=(28, 28, 1)))\n",
    "model1.add(Activation('relu'))\n",
    "model1.add(MaxPool2D(pool_size=(2,2)))\n",
    "\n",
    "model1.add(Conv2D(8, (5, 5), padding='same', input_shape=(28, 28, 1)))\n",
    "model1.add(Activation('relu'))\n",
    "model1.add(MaxPool2D(pool_size=(2,2)))"
   ]
  },
  {
   "cell_type": "code",
   "execution_count": 13,
   "metadata": {},
   "outputs": [],
   "source": [
    "model1.add(Flatten())\n",
    "model1.add(Dense(9))\n",
    "model1.add(Activation('relu'))\n",
    "\n",
    "model1.add(Dense(10))\n",
    "model1.add(Activation('softmax'))"
   ]
  },
  {
   "cell_type": "code",
   "execution_count": 14,
   "metadata": {},
   "outputs": [
    {
     "name": "stdout",
     "output_type": "stream",
     "text": [
      "_________________________________________________________________\n",
      "Layer (type)                 Output Shape              Param #   \n",
      "=================================================================\n",
      "conv2d_5 (Conv2D)            (None, 28, 28, 3)         78        \n",
      "_________________________________________________________________\n",
      "activation_7 (Activation)    (None, 28, 28, 3)         0         \n",
      "_________________________________________________________________\n",
      "max_pooling2d_5 (MaxPooling2 (None, 14, 14, 3)         0         \n",
      "_________________________________________________________________\n",
      "conv2d_6 (Conv2D)            (None, 14, 14, 6)         456       \n",
      "_________________________________________________________________\n",
      "activation_8 (Activation)    (None, 14, 14, 6)         0         \n",
      "_________________________________________________________________\n",
      "max_pooling2d_6 (MaxPooling2 (None, 7, 7, 6)           0         \n",
      "_________________________________________________________________\n",
      "conv2d_7 (Conv2D)            (None, 7, 7, 8)           1208      \n",
      "_________________________________________________________________\n",
      "activation_9 (Activation)    (None, 7, 7, 8)           0         \n",
      "_________________________________________________________________\n",
      "max_pooling2d_7 (MaxPooling2 (None, 3, 3, 8)           0         \n",
      "_________________________________________________________________\n",
      "flatten_2 (Flatten)          (None, 72)                0         \n",
      "_________________________________________________________________\n",
      "dense_3 (Dense)              (None, 9)                 657       \n",
      "_________________________________________________________________\n",
      "activation_10 (Activation)   (None, 9)                 0         \n",
      "_________________________________________________________________\n",
      "dense_4 (Dense)              (None, 10)                100       \n",
      "_________________________________________________________________\n",
      "activation_11 (Activation)   (None, 10)                0         \n",
      "=================================================================\n",
      "Total params: 2,499\n",
      "Trainable params: 2,499\n",
      "Non-trainable params: 0\n",
      "_________________________________________________________________\n"
     ]
    }
   ],
   "source": [
    "model1.compile(loss='mse', optimizer=SGD(lr=0.07), metrics=['accuracy'])\n",
    "model1.summary()"
   ]
  },
  {
   "cell_type": "code",
   "execution_count": 30,
   "metadata": {},
   "outputs": [
    {
     "name": "stdout",
     "output_type": "stream",
     "text": [
      "Epoch 1/10\n",
      "60000/60000 [==============================] - 39s 652us/step - loss: 0.0746 - acc: 0.4393\n",
      "Epoch 2/10\n",
      "60000/60000 [==============================] - 41s 686us/step - loss: 0.0338 - acc: 0.7640\n",
      "Epoch 3/10\n",
      "60000/60000 [==============================] - 40s 667us/step - loss: 0.0246 - acc: 0.8243\n",
      "Epoch 4/10\n",
      "60000/60000 [==============================] - 40s 660us/step - loss: 0.0207 - acc: 0.8784\n",
      "Epoch 5/10\n",
      "60000/60000 [==============================] - 40s 667us/step - loss: 0.0183 - acc: 0.8915\n",
      "Epoch 6/10\n",
      "60000/60000 [==============================] - 38s 641us/step - loss: 0.0148 - acc: 0.9071\n",
      "Epoch 7/10\n",
      "60000/60000 [==============================] - 38s 638us/step - loss: 0.0113 - acc: 0.9289\n",
      "Epoch 8/10\n",
      "60000/60000 [==============================] - 42s 699us/step - loss: 0.0098 - acc: 0.9383\n",
      "Epoch 9/10\n",
      "60000/60000 [==============================] - 40s 662us/step - loss: 0.0091 - acc: 0.9434\n",
      "Epoch 10/10\n",
      "60000/60000 [==============================] - 38s 638us/step - loss: 0.0085 - acc: 0.9466\n"
     ]
    },
    {
     "data": {
      "text/plain": [
       "<keras.callbacks.History at 0x2cc2d4a1978>"
      ]
     },
     "execution_count": 30,
     "metadata": {},
     "output_type": "execute_result"
    }
   ],
   "source": [
    "model1.fit(x_train, y_train, batch_size=100, epochs=10)"
   ]
  },
  {
   "cell_type": "code",
   "execution_count": 32,
   "metadata": {},
   "outputs": [
    {
     "name": "stdout",
     "output_type": "stream",
     "text": [
      "10000/10000 [==============================] - 2s 200us/step\n",
      "0.008319823731051293\n",
      "0.9489\n"
     ]
    }
   ],
   "source": [
    "score1 = model1.evaluate(x_test, y_test)\n",
    "print(score1[0])\n",
    "print(score1[1])"
   ]
  },
  {
   "cell_type": "markdown",
   "metadata": {},
   "source": [
    "模式二：\n",
    "相比模式一，縮小遮罩尺寸\n",
    "結果：精確度更低"
   ]
  },
  {
   "cell_type": "code",
   "execution_count": 18,
   "metadata": {},
   "outputs": [
    {
     "name": "stdout",
     "output_type": "stream",
     "text": [
      "_________________________________________________________________\n",
      "Layer (type)                 Output Shape              Param #   \n",
      "=================================================================\n",
      "conv2d_8 (Conv2D)            (None, 28, 28, 3)         30        \n",
      "_________________________________________________________________\n",
      "activation_12 (Activation)   (None, 28, 28, 3)         0         \n",
      "_________________________________________________________________\n",
      "max_pooling2d_8 (MaxPooling2 (None, 14, 14, 3)         0         \n",
      "_________________________________________________________________\n",
      "conv2d_9 (Conv2D)            (None, 14, 14, 6)         168       \n",
      "_________________________________________________________________\n",
      "activation_13 (Activation)   (None, 14, 14, 6)         0         \n",
      "_________________________________________________________________\n",
      "max_pooling2d_9 (MaxPooling2 (None, 7, 7, 6)           0         \n",
      "_________________________________________________________________\n",
      "conv2d_10 (Conv2D)           (None, 7, 7, 8)           440       \n",
      "_________________________________________________________________\n",
      "activation_14 (Activation)   (None, 7, 7, 8)           0         \n",
      "_________________________________________________________________\n",
      "max_pooling2d_10 (MaxPooling (None, 3, 3, 8)           0         \n",
      "_________________________________________________________________\n",
      "flatten_3 (Flatten)          (None, 72)                0         \n",
      "_________________________________________________________________\n",
      "dense_5 (Dense)              (None, 9)                 657       \n",
      "_________________________________________________________________\n",
      "activation_15 (Activation)   (None, 9)                 0         \n",
      "_________________________________________________________________\n",
      "dense_6 (Dense)              (None, 10)                100       \n",
      "_________________________________________________________________\n",
      "activation_16 (Activation)   (None, 10)                0         \n",
      "=================================================================\n",
      "Total params: 1,395\n",
      "Trainable params: 1,395\n",
      "Non-trainable params: 0\n",
      "_________________________________________________________________\n"
     ]
    }
   ],
   "source": [
    "model2 = Sequential()\n",
    "\n",
    "model2.add(Conv2D(3, (3, 3), padding='same', input_shape=(28, 28, 1)))\n",
    "model2.add(Activation('relu'))\n",
    "model2.add(MaxPool2D(pool_size=(2,2)))\n",
    "\n",
    "model2.add(Conv2D(6, (3, 3), padding='same', input_shape=(28, 28, 1)))\n",
    "model2.add(Activation('relu'))\n",
    "model2.add(MaxPool2D(pool_size=(2,2)))\n",
    "\n",
    "model2.add(Conv2D(8, (3, 3), padding='same', input_shape=(28, 28, 1)))\n",
    "model2.add(Activation('relu'))\n",
    "model2.add(MaxPool2D(pool_size=(2,2)))\n",
    "\n",
    "model2.add(Flatten())\n",
    "model2.add(Dense(9))\n",
    "model2.add(Activation('relu'))\n",
    "\n",
    "model2.add(Dense(10))\n",
    "model2.add(Activation('softmax'))\n",
    "\n",
    "model2.compile(loss='mse', optimizer=SGD(lr=0.07), metrics=['accuracy'])\n",
    "model2.summary()"
   ]
  },
  {
   "cell_type": "code",
   "execution_count": 19,
   "metadata": {},
   "outputs": [
    {
     "name": "stdout",
     "output_type": "stream",
     "text": [
      "Epoch 1/10\n",
      "60000/60000 [==============================] - 36s 592us/step - loss: 0.0895 - acc: 0.2818\n",
      "Epoch 2/10\n",
      "60000/60000 [==============================] - 36s 600us/step - loss: 0.0668 - acc: 0.4091\n",
      "Epoch 3/10\n",
      "60000/60000 [==============================] - 36s 602us/step - loss: 0.0615 - acc: 0.4476\n",
      "Epoch 4/10\n",
      "60000/60000 [==============================] - 36s 602us/step - loss: 0.0590 - acc: 0.4647\n",
      "Epoch 5/10\n",
      "60000/60000 [==============================] - 36s 604us/step - loss: 0.0574 - acc: 0.4877\n",
      "Epoch 6/10\n",
      "60000/60000 [==============================] - 36s 604us/step - loss: 0.0527 - acc: 0.5489\n",
      "Epoch 7/10\n",
      "60000/60000 [==============================] - 36s 600us/step - loss: 0.0505 - acc: 0.5620\n",
      "Epoch 8/10\n",
      "60000/60000 [==============================] - 36s 604us/step - loss: 0.0494 - acc: 0.5679\n",
      "Epoch 9/10\n",
      "60000/60000 [==============================] - 36s 607us/step - loss: 0.0486 - acc: 0.5710\n",
      "Epoch 10/10\n",
      "60000/60000 [==============================] - 37s 616us/step - loss: 0.0480 - acc: 0.5731\n"
     ]
    },
    {
     "data": {
      "text/plain": [
       "<keras.callbacks.History at 0x2cc1a98ada0>"
      ]
     },
     "execution_count": 19,
     "metadata": {},
     "output_type": "execute_result"
    }
   ],
   "source": [
    "model2.fit(x_train, y_train, batch_size=100, epochs=10)"
   ]
  },
  {
   "cell_type": "code",
   "execution_count": 20,
   "metadata": {},
   "outputs": [
    {
     "name": "stdout",
     "output_type": "stream",
     "text": [
      "10000/10000 [==============================] - 2s 200us/step\n",
      "0.047809374290704726\n",
      "0.5747\n"
     ]
    }
   ],
   "source": [
    "score2 = model2.evaluate(x_test, y_test)\n",
    "print(score2[0])\n",
    "print(score2[1])"
   ]
  },
  {
   "cell_type": "markdown",
   "metadata": {},
   "source": [
    "模式三：\n",
    "相比模式一，加大遮罩尺寸\n",
    "結果：精確度上升\n",
    "不過是在第五、第六個epoch時突然上升"
   ]
  },
  {
   "cell_type": "code",
   "execution_count": 21,
   "metadata": {},
   "outputs": [
    {
     "name": "stdout",
     "output_type": "stream",
     "text": [
      "_________________________________________________________________\n",
      "Layer (type)                 Output Shape              Param #   \n",
      "=================================================================\n",
      "conv2d_11 (Conv2D)           (None, 28, 28, 3)         150       \n",
      "_________________________________________________________________\n",
      "activation_17 (Activation)   (None, 28, 28, 3)         0         \n",
      "_________________________________________________________________\n",
      "max_pooling2d_11 (MaxPooling (None, 14, 14, 3)         0         \n",
      "_________________________________________________________________\n",
      "conv2d_12 (Conv2D)           (None, 14, 14, 6)         888       \n",
      "_________________________________________________________________\n",
      "activation_18 (Activation)   (None, 14, 14, 6)         0         \n",
      "_________________________________________________________________\n",
      "max_pooling2d_12 (MaxPooling (None, 7, 7, 6)           0         \n",
      "_________________________________________________________________\n",
      "conv2d_13 (Conv2D)           (None, 7, 7, 8)           2360      \n",
      "_________________________________________________________________\n",
      "activation_19 (Activation)   (None, 7, 7, 8)           0         \n",
      "_________________________________________________________________\n",
      "max_pooling2d_13 (MaxPooling (None, 3, 3, 8)           0         \n",
      "_________________________________________________________________\n",
      "flatten_4 (Flatten)          (None, 72)                0         \n",
      "_________________________________________________________________\n",
      "dense_7 (Dense)              (None, 9)                 657       \n",
      "_________________________________________________________________\n",
      "activation_20 (Activation)   (None, 9)                 0         \n",
      "_________________________________________________________________\n",
      "dense_8 (Dense)              (None, 10)                100       \n",
      "_________________________________________________________________\n",
      "activation_21 (Activation)   (None, 10)                0         \n",
      "=================================================================\n",
      "Total params: 4,155\n",
      "Trainable params: 4,155\n",
      "Non-trainable params: 0\n",
      "_________________________________________________________________\n"
     ]
    }
   ],
   "source": [
    "model3 = Sequential()\n",
    "\n",
    "model3.add(Conv2D(3, (7, 7), padding='same', input_shape=(28, 28, 1)))\n",
    "model3.add(Activation('relu'))\n",
    "model3.add(MaxPool2D(pool_size=(2,2)))\n",
    "\n",
    "model3.add(Conv2D(6, (7, 7), padding='same', input_shape=(28, 28, 1)))\n",
    "model3.add(Activation('relu'))\n",
    "model3.add(MaxPool2D(pool_size=(2,2)))\n",
    "\n",
    "model3.add(Conv2D(8, (7, 7), padding='same', input_shape=(28, 28, 1)))\n",
    "model3.add(Activation('relu'))\n",
    "model3.add(MaxPool2D(pool_size=(2,2)))\n",
    "\n",
    "model3.add(Flatten())\n",
    "model3.add(Dense(9))\n",
    "model3.add(Activation('relu'))\n",
    "\n",
    "model3.add(Dense(10))\n",
    "model3.add(Activation('softmax'))\n",
    "\n",
    "model3.compile(loss='mse', optimizer=SGD(lr=0.07), metrics=['accuracy'])\n",
    "model3.summary()"
   ]
  },
  {
   "cell_type": "code",
   "execution_count": 22,
   "metadata": {},
   "outputs": [
    {
     "name": "stdout",
     "output_type": "stream",
     "text": [
      "Epoch 1/10\n",
      "60000/60000 [==============================] - 52s 868us/step - loss: 0.1805 - acc: 0.0974\n",
      "Epoch 2/10\n",
      "60000/60000 [==============================] - 53s 887us/step - loss: 0.1805 - acc: 0.0975\n",
      "Epoch 3/10\n",
      "60000/60000 [==============================] - 53s 881us/step - loss: 0.1805 - acc: 0.0975\n",
      "Epoch 4/10\n",
      "60000/60000 [==============================] - 52s 867us/step - loss: 0.1414 - acc: 0.1865\n",
      "Epoch 5/10\n",
      "60000/60000 [==============================] - 52s 868us/step - loss: 0.0407 - acc: 0.6853\n",
      "Epoch 6/10\n",
      "60000/60000 [==============================] - 52s 864us/step - loss: 0.0152 - acc: 0.9035\n",
      "Epoch 7/10\n",
      "60000/60000 [==============================] - 52s 862us/step - loss: 0.0114 - acc: 0.9283\n",
      "Epoch 8/10\n",
      "60000/60000 [==============================] - 52s 866us/step - loss: 0.0095 - acc: 0.9401\n",
      "Epoch 9/10\n",
      "60000/60000 [==============================] - 52s 875us/step - loss: 0.0084 - acc: 0.9469\n",
      "Epoch 10/10\n",
      "60000/60000 [==============================] - 53s 875us/step - loss: 0.0077 - acc: 0.9522\n"
     ]
    },
    {
     "data": {
      "text/plain": [
       "<keras.callbacks.History at 0x2cc1fed6be0>"
      ]
     },
     "execution_count": 22,
     "metadata": {},
     "output_type": "execute_result"
    }
   ],
   "source": [
    "model3.fit(x_train, y_train, batch_size=100, epochs=10)"
   ]
  },
  {
   "cell_type": "code",
   "execution_count": 23,
   "metadata": {},
   "outputs": [
    {
     "name": "stdout",
     "output_type": "stream",
     "text": [
      "10000/10000 [==============================] - 3s 319us/step\n",
      "0.006512165810953775\n",
      "0.9596\n"
     ]
    }
   ],
   "source": [
    "score3 = model3.evaluate(x_test, y_test)\n",
    "print(score3[0])\n",
    "print(score3[1])"
   ]
  },
  {
   "cell_type": "markdown",
   "metadata": {},
   "source": [
    "模式四：\n",
    "相比模式一，maxpooling改成(3,3)\n",
    "結果：精確度下降"
   ]
  },
  {
   "cell_type": "code",
   "execution_count": 24,
   "metadata": {},
   "outputs": [
    {
     "name": "stdout",
     "output_type": "stream",
     "text": [
      "_________________________________________________________________\n",
      "Layer (type)                 Output Shape              Param #   \n",
      "=================================================================\n",
      "conv2d_14 (Conv2D)           (None, 28, 28, 3)         78        \n",
      "_________________________________________________________________\n",
      "activation_22 (Activation)   (None, 28, 28, 3)         0         \n",
      "_________________________________________________________________\n",
      "max_pooling2d_14 (MaxPooling (None, 9, 9, 3)           0         \n",
      "_________________________________________________________________\n",
      "conv2d_15 (Conv2D)           (None, 9, 9, 6)           456       \n",
      "_________________________________________________________________\n",
      "activation_23 (Activation)   (None, 9, 9, 6)           0         \n",
      "_________________________________________________________________\n",
      "max_pooling2d_15 (MaxPooling (None, 3, 3, 6)           0         \n",
      "_________________________________________________________________\n",
      "conv2d_16 (Conv2D)           (None, 3, 3, 8)           1208      \n",
      "_________________________________________________________________\n",
      "activation_24 (Activation)   (None, 3, 3, 8)           0         \n",
      "_________________________________________________________________\n",
      "max_pooling2d_16 (MaxPooling (None, 1, 1, 8)           0         \n",
      "_________________________________________________________________\n",
      "flatten_5 (Flatten)          (None, 8)                 0         \n",
      "_________________________________________________________________\n",
      "dense_9 (Dense)              (None, 9)                 81        \n",
      "_________________________________________________________________\n",
      "activation_25 (Activation)   (None, 9)                 0         \n",
      "_________________________________________________________________\n",
      "dense_10 (Dense)             (None, 10)                100       \n",
      "_________________________________________________________________\n",
      "activation_26 (Activation)   (None, 10)                0         \n",
      "=================================================================\n",
      "Total params: 1,923\n",
      "Trainable params: 1,923\n",
      "Non-trainable params: 0\n",
      "_________________________________________________________________\n"
     ]
    }
   ],
   "source": [
    "model4 = Sequential()\n",
    "\n",
    "model4.add(Conv2D(3, (5, 5), padding='same', input_shape=(28, 28, 1)))\n",
    "model4.add(Activation('relu'))\n",
    "model4.add(MaxPool2D(pool_size=(3,3)))\n",
    "\n",
    "model4.add(Conv2D(6, (5, 5), padding='same', input_shape=(28, 28, 1)))\n",
    "model4.add(Activation('relu'))\n",
    "model4.add(MaxPool2D(pool_size=(3,3)))\n",
    "\n",
    "model4.add(Conv2D(8, (5, 5), padding='same', input_shape=(28, 28, 1)))\n",
    "model4.add(Activation('relu'))\n",
    "model4.add(MaxPool2D(pool_size=(3,3)))\n",
    "\n",
    "model4.add(Flatten())\n",
    "model4.add(Dense(9))\n",
    "model4.add(Activation('relu'))\n",
    "\n",
    "model4.add(Dense(10))\n",
    "model4.add(Activation('softmax'))\n",
    "\n",
    "model4.compile(loss='mse', optimizer=SGD(lr=0.07), metrics=['accuracy'])\n",
    "model4.summary()"
   ]
  },
  {
   "cell_type": "code",
   "execution_count": 25,
   "metadata": {},
   "outputs": [
    {
     "name": "stdout",
     "output_type": "stream",
     "text": [
      "Epoch 1/10\n",
      "60000/60000 [==============================] - 15s 246us/step - loss: 0.1408 - acc: 0.1484\n",
      "Epoch 2/10\n",
      "60000/60000 [==============================] - 15s 245us/step - loss: 0.0789 - acc: 0.2744\n",
      "Epoch 3/10\n",
      "60000/60000 [==============================] - 15s 257us/step - loss: 0.0762 - acc: 0.2875\n",
      "Epoch 4/10\n",
      "60000/60000 [==============================] - 14s 241us/step - loss: 0.0752 - acc: 0.2916\n",
      "Epoch 5/10\n",
      "60000/60000 [==============================] - 15s 243us/step - loss: 0.0746 - acc: 0.2940\n",
      "Epoch 6/10\n",
      "60000/60000 [==============================] - 15s 253us/step - loss: 0.0743 - acc: 0.2962\n",
      "Epoch 7/10\n",
      "60000/60000 [==============================] - 15s 249us/step - loss: 0.0739 - acc: 0.29837s - loss: 0.0741 - ETA: 6s - loss: 0.0741 - acc: 0.295 - ETA: 6s - - ETA: 0s - loss: 0.0739 - acc: 0.298\n",
      "Epoch 8/10\n",
      "60000/60000 [==============================] - 15s 249us/step - loss: 0.0685 - acc: 0.3765\n",
      "Epoch 9/10\n",
      "60000/60000 [==============================] - 13s 224us/step - loss: 0.0663 - acc: 0.3905\n",
      "Epoch 10/10\n",
      "60000/60000 [==============================] - 13s 223us/step - loss: 0.0655 - acc: 0.3937\n"
     ]
    },
    {
     "data": {
      "text/plain": [
       "<keras.callbacks.History at 0x2cc1ffb5710>"
      ]
     },
     "execution_count": 25,
     "metadata": {},
     "output_type": "execute_result"
    }
   ],
   "source": [
    "model4.fit(x_train, y_train, batch_size=100, epochs=10)"
   ]
  },
  {
   "cell_type": "code",
   "execution_count": 26,
   "metadata": {},
   "outputs": [
    {
     "name": "stdout",
     "output_type": "stream",
     "text": [
      "10000/10000 [==============================] - 1s 91us/step\n",
      "0.06497023310661316\n",
      "0.3972\n"
     ]
    }
   ],
   "source": [
    "score4 = model4.evaluate(x_test, y_test)\n",
    "print(score4[0])\n",
    "print(score4[1])"
   ]
  },
  {
   "cell_type": "markdown",
   "metadata": {},
   "source": [
    "模式五：\n",
    "相比模式一，把細胞數大小相反\n",
    "結果：\n",
    "精確度下降"
   ]
  },
  {
   "cell_type": "code",
   "execution_count": 27,
   "metadata": {},
   "outputs": [
    {
     "name": "stdout",
     "output_type": "stream",
     "text": [
      "_________________________________________________________________\n",
      "Layer (type)                 Output Shape              Param #   \n",
      "=================================================================\n",
      "conv2d_17 (Conv2D)           (None, 28, 28, 8)         208       \n",
      "_________________________________________________________________\n",
      "activation_27 (Activation)   (None, 28, 28, 8)         0         \n",
      "_________________________________________________________________\n",
      "max_pooling2d_17 (MaxPooling (None, 14, 14, 8)         0         \n",
      "_________________________________________________________________\n",
      "conv2d_18 (Conv2D)           (None, 14, 14, 6)         1206      \n",
      "_________________________________________________________________\n",
      "activation_28 (Activation)   (None, 14, 14, 6)         0         \n",
      "_________________________________________________________________\n",
      "max_pooling2d_18 (MaxPooling (None, 7, 7, 6)           0         \n",
      "_________________________________________________________________\n",
      "conv2d_19 (Conv2D)           (None, 7, 7, 3)           453       \n",
      "_________________________________________________________________\n",
      "activation_29 (Activation)   (None, 7, 7, 3)           0         \n",
      "_________________________________________________________________\n",
      "max_pooling2d_19 (MaxPooling (None, 3, 3, 3)           0         \n",
      "_________________________________________________________________\n",
      "flatten_6 (Flatten)          (None, 27)                0         \n",
      "_________________________________________________________________\n",
      "dense_11 (Dense)             (None, 9)                 252       \n",
      "_________________________________________________________________\n",
      "activation_30 (Activation)   (None, 9)                 0         \n",
      "_________________________________________________________________\n",
      "dense_12 (Dense)             (None, 10)                100       \n",
      "_________________________________________________________________\n",
      "activation_31 (Activation)   (None, 10)                0         \n",
      "=================================================================\n",
      "Total params: 2,219\n",
      "Trainable params: 2,219\n",
      "Non-trainable params: 0\n",
      "_________________________________________________________________\n"
     ]
    }
   ],
   "source": [
    "model5 = Sequential()\n",
    "\n",
    "model5.add(Conv2D(8, (5, 5), padding='same', input_shape=(28, 28, 1)))\n",
    "model5.add(Activation('relu'))\n",
    "model5.add(MaxPool2D(pool_size=(2,2)))\n",
    "\n",
    "model5.add(Conv2D(6, (5, 5), padding='same', input_shape=(28, 28, 1)))\n",
    "model5.add(Activation('relu'))\n",
    "model5.add(MaxPool2D(pool_size=(2,2)))\n",
    "\n",
    "model5.add(Conv2D(3, (5, 5), padding='same', input_shape=(28, 28, 1)))\n",
    "model5.add(Activation('relu'))\n",
    "model5.add(MaxPool2D(pool_size=(2,2)))\n",
    "\n",
    "model5.add(Flatten())\n",
    "model5.add(Dense(9))\n",
    "model5.add(Activation('relu'))\n",
    "\n",
    "model5.add(Dense(10))\n",
    "model5.add(Activation('softmax'))\n",
    "\n",
    "model5.compile(loss='mse', optimizer=SGD(lr=0.07), metrics=['accuracy'])\n",
    "model5.summary()"
   ]
  },
  {
   "cell_type": "code",
   "execution_count": 28,
   "metadata": {},
   "outputs": [
    {
     "name": "stdout",
     "output_type": "stream",
     "text": [
      "Epoch 1/10\n",
      "60000/60000 [==============================] - 13s 223us/step - loss: 0.0858 - acc: 0.20658s -  - ETA: 6s - loss: 0.0901 - acc: 0 -  - ETA: 1s - loss\n",
      "Epoch 2/10\n",
      "60000/60000 [==============================] - 14s 231us/step - loss: 0.0760 - acc: 0.28998s - loss: 0.076 - ET\n",
      "Epoch 3/10\n",
      "60000/60000 [==============================] - 13s 212us/step - loss: 0.0744 - acc: 0.3118\n",
      "Epoch 4/10\n",
      "60000/60000 [==============================] - 13s 213us/step - loss: 0.0680 - acc: 0.38425s - loss: 0.0706 - ETA: 4s - loss: 0.0702 - acc: 0.3 - ETA: 3s - loss: 0.0701 - a - ETA: 3s - l - ETA: 1s - - ETA: 0s - loss: 0.0682 - acc: 0\n",
      "Epoch 5/10\n",
      "60000/60000 [==============================] - 12s 202us/step - loss: 0.0600 - acc: 0.4452\n",
      "Epoch 6/10\n",
      "60000/60000 [==============================] - 14s 225us/step - loss: 0.0564 - acc: 0.54255 - ETA: 3s - loss: 0.0566 - acc: 0.54 - ETA: 3s - loss: 0.0566  - E\n",
      "Epoch 7/10\n",
      "60000/60000 [==============================] - 12s 205us/step - loss: 0.0531 - acc: 0.5770\n",
      "Epoch 8/10\n",
      "60000/60000 [==============================] - 13s 213us/step - loss: 0.0488 - acc: 0.6210\n",
      "Epoch 9/10\n",
      "60000/60000 [==============================] - 13s 210us/step - loss: 0.0456 - acc: 0.65622s  - ETA: 0s - loss: 0.\n",
      "Epoch 10/10\n",
      "60000/60000 [==============================] - 13s 212us/step - loss: 0.0376 - acc: 0.7470\n"
     ]
    },
    {
     "data": {
      "text/plain": [
       "<keras.callbacks.History at 0x2cc251753c8>"
      ]
     },
     "execution_count": 28,
     "metadata": {},
     "output_type": "execute_result"
    }
   ],
   "source": [
    "model5.fit(x_train, y_train, batch_size=100, epochs=10)"
   ]
  },
  {
   "cell_type": "code",
   "execution_count": 29,
   "metadata": {},
   "outputs": [
    {
     "name": "stdout",
     "output_type": "stream",
     "text": [
      "10000/10000 [==============================] - 1s 87us/step\n",
      "0.03058540563285351\n",
      "0.7844\n"
     ]
    }
   ],
   "source": [
    "score5 = model5.evaluate(x_test, y_test)\n",
    "print(score5[0])\n",
    "print(score5[1])"
   ]
  },
  {
   "cell_type": "code",
   "execution_count": 33,
   "metadata": {},
   "outputs": [
    {
     "name": "stdout",
     "output_type": "stream",
     "text": [
      "0.9489\n",
      "0.5747\n",
      "0.9596\n",
      "0.3972\n",
      "0.7844\n"
     ]
    }
   ],
   "source": [
    "print(score1[1])\n",
    "print(score2[1])\n",
    "print(score3[1])\n",
    "print(score4[1])\n",
    "print(score5[1])"
   ]
  }
 ],
 "metadata": {
  "kernelspec": {
   "display_name": "Python 3",
   "language": "python",
   "name": "python3"
  },
  "language_info": {
   "codemirror_mode": {
    "name": "ipython",
    "version": 3
   },
   "file_extension": ".py",
   "mimetype": "text/x-python",
   "name": "python",
   "nbconvert_exporter": "python",
   "pygments_lexer": "ipython3",
   "version": "3.7.0"
  }
 },
 "nbformat": 4,
 "nbformat_minor": 2
}
