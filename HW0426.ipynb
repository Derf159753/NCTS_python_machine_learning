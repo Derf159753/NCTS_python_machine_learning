{
 "cells": [
  {
   "cell_type": "code",
   "execution_count": 38,
   "metadata": {},
   "outputs": [],
   "source": [
    "import numpy as np\n",
    "import matplotlib.pyplot as plt\n",
    "from keras.datasets import mnist\n",
    "from keras.utils import np_utils\n",
    "from keras.models import Sequential\n",
    "from keras.layers import Dense, Activation\n",
    "from keras.optimizers import SGD"
   ]
  },
  {
   "cell_type": "code",
   "execution_count": 32,
   "metadata": {},
   "outputs": [
    {
     "data": {
      "text/plain": [
       "10000"
      ]
     },
     "execution_count": 32,
     "metadata": {},
     "output_type": "execute_result"
    }
   ],
   "source": [
    "(x_train, y_train), (x_test, y_test) = mnist.load_data()\n",
    "len(x_test)"
   ]
  },
  {
   "cell_type": "code",
   "execution_count": 33,
   "metadata": {},
   "outputs": [
    {
     "data": {
      "text/plain": [
       "(28, 28)"
      ]
     },
     "execution_count": 33,
     "metadata": {},
     "output_type": "execute_result"
    }
   ],
   "source": [
    "X = x_train[87]\n",
    "X.shape"
   ]
  },
  {
   "cell_type": "code",
   "execution_count": 34,
   "metadata": {},
   "outputs": [
    {
     "data": {
      "text/plain": [
       "<matplotlib.image.AxesImage at 0x277bcbe4390>"
      ]
     },
     "execution_count": 34,
     "metadata": {},
     "output_type": "execute_result"
    },
    {
     "data": {
      "image/png": "[encoded data removed]",
      "text/plain": [
       "<Figure size 432x288 with 1 Axes>"
      ]
     },
     "metadata": {
      "needs_background": "light"
     },
     "output_type": "display_data"
    }
   ],
   "source": [
    "plt.imshow(X, cmap = 'Greys')"
   ]
  },
  {
   "cell_type": "code",
   "execution_count": 35,
   "metadata": {},
   "outputs": [],
   "source": [
    "x_train = x_train.reshape(60000, 784)\n",
    "x_test = x_test.reshape(10000, 784)"
   ]
  },
  {
   "cell_type": "code",
   "execution_count": 36,
   "metadata": {},
   "outputs": [],
   "source": [
    "y_train = np_utils.to_categorical(y_train, 10)\n",
    "y_test = np_utils.to_categorical(y_test, 10)"
   ]
  },
  {
   "cell_type": "code",
   "execution_count": 37,
   "metadata": {},
   "outputs": [
    {
     "data": {
      "text/plain": [
       "array([0., 1., 0., 0., 0., 0., 0., 0., 0., 0.], dtype=float32)"
      ]
     },
     "execution_count": 37,
     "metadata": {},
     "output_type": "execute_result"
    }
   ],
   "source": [
    "y_train[77]"
   ]
  },
  {
   "cell_type": "code",
   "execution_count": 94,
   "metadata": {},
   "outputs": [
    {
     "name": "stdout",
     "output_type": "stream",
     "text": [
      "_________________________________________________________________\n",
      "Layer (type)                 Output Shape              Param #   \n",
      "=================================================================\n",
      "dense_102 (Dense)            (None, 30)                23550     \n",
      "_________________________________________________________________\n",
      "activation_102 (Activation)  (None, 30)                0         \n",
      "_________________________________________________________________\n",
      "dense_103 (Dense)            (None, 20)                620       \n",
      "_________________________________________________________________\n",
      "activation_103 (Activation)  (None, 20)                0         \n",
      "_________________________________________________________________\n",
      "dense_104 (Dense)            (None, 10)                210       \n",
      "_________________________________________________________________\n",
      "activation_104 (Activation)  (None, 10)                0         \n",
      "_________________________________________________________________\n",
      "dense_105 (Dense)            (None, 10)                110       \n",
      "_________________________________________________________________\n",
      "activation_105 (Activation)  (None, 10)                0         \n",
      "=================================================================\n",
      "Total params: 24,490\n",
      "Trainable params: 24,490\n",
      "Non-trainable params: 0\n",
      "_________________________________________________________________\n"
     ]
    }
   ],
   "source": [
    "model = Sequential()\n",
    "model.add(Dense(30, input_dim=784))\n",
    "model.add(Activation('sigmoid'))\n",
    "model.add(Dense(20))\n",
    "model.add(Activation('sigmoid'))\n",
    "model.add(Dense(10))\n",
    "model.add(Activation('sigmoid'))\n",
    "\n",
    "model.add(Dense(10))\n",
    "model.add(Activation('softmax'))\n",
    "\n",
    "model.compile(loss='mse', optimizer=SGD(lr=0.3), metrics=['accuracy'])\n",
    "\n",
    "model.summary()"
   ]
  },
  {
   "cell_type": "code",
   "execution_count": 95,
   "metadata": {},
   "outputs": [
    {
     "name": "stdout",
     "output_type": "stream",
     "text": [
      "Epoch 1/80\n",
      "60000/60000 [==============================] - 2s 27us/step - loss: 0.0911 - acc: 0.1180\n",
      "Epoch 2/80\n",
      "60000/60000 [==============================] - 1s 18us/step - loss: 0.0900 - acc: 0.1958\n",
      "Epoch 3/80\n",
      "60000/60000 [==============================] - 1s 19us/step - loss: 0.0897 - acc: 0.1869\n",
      "Epoch 4/80\n",
      "60000/60000 [==============================] - 1s 20us/step - loss: 0.0895 - acc: 0.1888\n",
      "Epoch 5/80\n",
      "60000/60000 [==============================] - 1s 21us/step - loss: 0.0893 - acc: 0.1944\n",
      "Epoch 6/80\n",
      "60000/60000 [==============================] - 1s 20us/step - loss: 0.0891 - acc: 0.1997\n",
      "Epoch 7/80\n",
      "60000/60000 [==============================] - 1s 18us/step - loss: 0.0889 - acc: 0.1991\n",
      "Epoch 8/80\n",
      "60000/60000 [==============================] - 1s 18us/step - loss: 0.0887 - acc: 0.2031\n",
      "Epoch 9/80\n",
      "60000/60000 [==============================] - 1s 19us/step - loss: 0.0885 - acc: 0.2046\n",
      "Epoch 10/80\n",
      "60000/60000 [==============================] - 2s 26us/step - loss: 0.0882 - acc: 0.2052\n",
      "Epoch 11/80\n",
      "60000/60000 [==============================] - 1s 19us/step - loss: 0.0879 - acc: 0.2062\n",
      "Epoch 12/80\n",
      "60000/60000 [==============================] - 1s 19us/step - loss: 0.0875 - acc: 0.2064\n",
      "Epoch 13/80\n",
      "60000/60000 [==============================] - 1s 18us/step - loss: 0.0869 - acc: 0.2072\n",
      "Epoch 14/80\n",
      "60000/60000 [==============================] - 1s 17us/step - loss: 0.0862 - acc: 0.2077\n",
      "Epoch 15/80\n",
      "60000/60000 [==============================] - 1s 19us/step - loss: 0.0853 - acc: 0.2081\n",
      "Epoch 16/80\n",
      "60000/60000 [==============================] - 1s 19us/step - loss: 0.0840 - acc: 0.2087\n",
      "Epoch 17/80\n",
      "60000/60000 [==============================] - 1s 22us/step - loss: 0.0826 - acc: 0.2110\n",
      "Epoch 18/80\n",
      "60000/60000 [==============================] - 1s 18us/step - loss: 0.0812 - acc: 0.2277\n",
      "Epoch 19/80\n",
      "60000/60000 [==============================] - 1s 20us/step - loss: 0.0799 - acc: 0.2568\n",
      "Epoch 20/80\n",
      "60000/60000 [==============================] - 1s 18us/step - loss: 0.0788 - acc: 0.2831\n",
      "Epoch 21/80\n",
      "60000/60000 [==============================] - 1s 17us/step - loss: 0.0779 - acc: 0.3000\n",
      "Epoch 22/80\n",
      "60000/60000 [==============================] - 1s 17us/step - loss: 0.0770 - acc: 0.3034\n",
      "Epoch 23/80\n",
      "60000/60000 [==============================] - 1s 17us/step - loss: 0.0761 - acc: 0.3074\n",
      "Epoch 24/80\n",
      "60000/60000 [==============================] - 1s 19us/step - loss: 0.0752 - acc: 0.3107\n",
      "Epoch 25/80\n",
      "60000/60000 [==============================] - 1s 19us/step - loss: 0.0743 - acc: 0.3175\n",
      "Epoch 26/80\n",
      "60000/60000 [==============================] - 1s 18us/step - loss: 0.0734 - acc: 0.3281\n",
      "Epoch 27/80\n",
      "60000/60000 [==============================] - 1s 18us/step - loss: 0.0724 - acc: 0.3405\n",
      "Epoch 28/80\n",
      "60000/60000 [==============================] - 1s 17us/step - loss: 0.0714 - acc: 0.3561\n",
      "Epoch 29/80\n",
      "60000/60000 [==============================] - 1s 18us/step - loss: 0.0703 - acc: 0.3768: 0s - loss: 0.0704 - acc:\n",
      "Epoch 30/80\n",
      "60000/60000 [==============================] - 1s 18us/step - loss: 0.0692 - acc: 0.4038\n",
      "Epoch 31/80\n",
      "60000/60000 [==============================] - 1s 19us/step - loss: 0.0680 - acc: 0.4317\n",
      "Epoch 32/80\n",
      "60000/60000 [==============================] - 1s 17us/step - loss: 0.0668 - acc: 0.4674\n",
      "Epoch 33/80\n",
      "60000/60000 [==============================] - 1s 17us/step - loss: 0.0655 - acc: 0.4927\n",
      "Epoch 34/80\n",
      "60000/60000 [==============================] - 1s 18us/step - loss: 0.0641 - acc: 0.5266\n",
      "Epoch 35/80\n",
      "60000/60000 [==============================] - 1s 18us/step - loss: 0.0627 - acc: 0.5524\n",
      "Epoch 36/80\n",
      "60000/60000 [==============================] - 1s 17us/step - loss: 0.0612 - acc: 0.5753\n",
      "Epoch 37/80\n",
      "60000/60000 [==============================] - 1s 19us/step - loss: 0.0597 - acc: 0.6013\n",
      "Epoch 38/80\n",
      "60000/60000 [==============================] - 1s 18us/step - loss: 0.0581 - acc: 0.6194\n",
      "Epoch 39/80\n",
      "60000/60000 [==============================] - 1s 17us/step - loss: 0.0565 - acc: 0.6366\n",
      "Epoch 40/80\n",
      "60000/60000 [==============================] - 1s 17us/step - loss: 0.0549 - acc: 0.6533\n",
      "Epoch 41/80\n",
      "60000/60000 [==============================] - 1s 17us/step - loss: 0.0534 - acc: 0.6660\n",
      "Epoch 42/80\n",
      "60000/60000 [==============================] - 1s 18us/step - loss: 0.0518 - acc: 0.6756\n",
      "Epoch 43/80\n",
      "60000/60000 [==============================] - 1s 18us/step - loss: 0.0503 - acc: 0.6878\n",
      "Epoch 44/80\n",
      "60000/60000 [==============================] - 1s 20us/step - loss: 0.0487 - acc: 0.7157\n",
      "Epoch 45/80\n",
      "60000/60000 [==============================] - 1s 18us/step - loss: 0.0471 - acc: 0.7368\n",
      "Epoch 46/80\n",
      "60000/60000 [==============================] - 1s 18us/step - loss: 0.0453 - acc: 0.7582\n",
      "Epoch 47/80\n",
      "60000/60000 [==============================] - 1s 19us/step - loss: 0.0435 - acc: 0.7899\n",
      "Epoch 48/80\n",
      "60000/60000 [==============================] - 1s 22us/step - loss: 0.0416 - acc: 0.7991\n",
      "Epoch 49/80\n",
      "60000/60000 [==============================] - 1s 20us/step - loss: 0.0395 - acc: 0.8100\n",
      "Epoch 50/80\n",
      "60000/60000 [==============================] - 1s 20us/step - loss: 0.0374 - acc: 0.8234\n",
      "Epoch 51/80\n",
      "60000/60000 [==============================] - 1s 19us/step - loss: 0.0354 - acc: 0.8422\n",
      "Epoch 52/80\n",
      "60000/60000 [==============================] - 1s 20us/step - loss: 0.0335 - acc: 0.8542\n",
      "Epoch 53/80\n",
      "60000/60000 [==============================] - 1s 20us/step - loss: 0.0318 - acc: 0.8627\n",
      "Epoch 54/80\n",
      "60000/60000 [==============================] - 1s 24us/step - loss: 0.0301 - acc: 0.8708\n",
      "Epoch 55/80\n",
      "60000/60000 [==============================] - 1s 23us/step - loss: 0.0286 - acc: 0.8761\n",
      "Epoch 56/80\n",
      "60000/60000 [==============================] - 1s 21us/step - loss: 0.0274 - acc: 0.8785\n",
      "Epoch 57/80\n",
      "60000/60000 [==============================] - 1s 21us/step - loss: 0.0262 - acc: 0.8810\n",
      "Epoch 58/80\n",
      "60000/60000 [==============================] - 1s 19us/step - loss: 0.0252 - acc: 0.8831\n",
      "Epoch 59/80\n",
      "60000/60000 [==============================] - 1s 18us/step - loss: 0.0242 - acc: 0.8866\n",
      "Epoch 60/80\n",
      "60000/60000 [==============================] - 1s 21us/step - loss: 0.0235 - acc: 0.8865\n",
      "Epoch 61/80\n",
      "60000/60000 [==============================] - 1s 20us/step - loss: 0.0227 - acc: 0.8878\n",
      "Epoch 62/80\n",
      "60000/60000 [==============================] - 1s 18us/step - loss: 0.0220 - acc: 0.8909\n",
      "Epoch 63/80\n",
      "60000/60000 [==============================] - 1s 18us/step - loss: 0.0214 - acc: 0.8902\n",
      "Epoch 64/80\n",
      "60000/60000 [==============================] - 1s 21us/step - loss: 0.0209 - acc: 0.8916\n",
      "Epoch 65/80\n",
      "60000/60000 [==============================] - 1s 19us/step - loss: 0.0204 - acc: 0.8931\n",
      "Epoch 66/80\n",
      "60000/60000 [==============================] - 1s 18us/step - loss: 0.0200 - acc: 0.8949\n",
      "Epoch 67/80\n",
      "60000/60000 [==============================] - 1s 18us/step - loss: 0.0195 - acc: 0.8972\n",
      "Epoch 68/80\n",
      "60000/60000 [==============================] - 1s 18us/step - loss: 0.0191 - acc: 0.8976\n",
      "Epoch 69/80\n",
      "60000/60000 [==============================] - 1s 18us/step - loss: 0.0188 - acc: 0.8983\n",
      "Epoch 70/80\n",
      "60000/60000 [==============================] - 1s 18us/step - loss: 0.0186 - acc: 0.8987\n",
      "Epoch 71/80\n",
      "60000/60000 [==============================] - 1s 18us/step - loss: 0.0182 - acc: 0.8998\n",
      "Epoch 72/80\n",
      "60000/60000 [==============================] - 1s 19us/step - loss: 0.0178 - acc: 0.9009\n",
      "Epoch 73/80\n",
      "60000/60000 [==============================] - 1s 21us/step - loss: 0.0177 - acc: 0.9011\n",
      "Epoch 74/80\n",
      "60000/60000 [==============================] - 1s 21us/step - loss: 0.0173 - acc: 0.9027\n",
      "Epoch 75/80\n",
      "60000/60000 [==============================] - 2s 26us/step - loss: 0.0170 - acc: 0.9038\n",
      "Epoch 76/80\n",
      "60000/60000 [==============================] - 1s 23us/step - loss: 0.0168 - acc: 0.9047\n",
      "Epoch 77/80\n",
      "60000/60000 [==============================] - 1s 21us/step - loss: 0.0168 - acc: 0.9048\n",
      "Epoch 78/80\n",
      "60000/60000 [==============================] - 1s 21us/step - loss: 0.0167 - acc: 0.9046\n",
      "Epoch 79/80\n",
      "60000/60000 [==============================] - 1s 19us/step - loss: 0.0164 - acc: 0.9063\n",
      "Epoch 80/80\n",
      "60000/60000 [==============================] - 1s 19us/step - loss: 0.0161 - acc: 0.9083\n"
     ]
    },
    {
     "data": {
      "text/plain": [
       "<keras.callbacks.History at 0x27899672470>"
      ]
     },
     "execution_count": 95,
     "metadata": {},
     "output_type": "execute_result"
    }
   ],
   "source": [
    "model.fit(x_train, y_train, batch_size=200, epochs=80)"
   ]
  },
  {
   "cell_type": "code",
   "execution_count": 96,
   "metadata": {},
   "outputs": [
    {
     "name": "stdout",
     "output_type": "stream",
     "text": [
      "10000/10000 [==============================] - 1s 65us/step\n",
      "loss: 0.01628723304197192\n",
      "正確率 0.9021\n"
     ]
    }
   ],
   "source": [
    "score = model.evaluate(x_test, y_test)\n",
    "print('loss:', score[0])\n",
    "print('正確率', score[1])"
   ]
  }
 ],
 "metadata": {
  "kernelspec": {
   "display_name": "Python 3",
   "language": "python",
   "name": "python3"
  },
  "language_info": {
   "codemirror_mode": {
    "name": "ipython",
    "version": 3
   },
   "file_extension": ".py",
   "mimetype": "text/x-python",
   "name": "python",
   "nbconvert_exporter": "python",
   "pygments_lexer": "ipython3",
   "version": "3.7.0"
  }
 },
 "nbformat": 4,
 "nbformat_minor": 2
}
