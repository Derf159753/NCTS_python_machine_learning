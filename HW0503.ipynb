{
 "cells": [
  {
   "cell_type": "code",
   "execution_count": 54,
   "metadata": {},
   "outputs": [],
   "source": [
    "from keras.models import Model\n",
    "from keras.layers import Dense, Activation, Input,concatenate\n",
    "from keras.datasets import mnist\n",
    "from keras.optimizers import SGD\n",
    "from keras.utils import np_utils"
   ]
  },
  {
   "cell_type": "code",
   "execution_count": 55,
   "metadata": {},
   "outputs": [],
   "source": [
    "(x_train, y_train), (x_test, y_test) = mnist.load_data()\n",
    "x_train = x_train.reshape(60000, 784)\n",
    "x_test = x_test.reshape(10000, 784)\n",
    "y_train = np_utils.to_categorical(y_train, 10)\n",
    "y_test = np_utils.to_categorical(y_test, 10)"
   ]
  },
  {
   "cell_type": "code",
   "execution_count": 56,
   "metadata": {},
   "outputs": [],
   "source": [
    "f_1=Dense(60,activation='sigmoid')\n",
    "f_2=Dense(40,activation='sigmoid')\n",
    "f_3_1=Dense(20,activation='sigmoid')\n",
    "f_3_2=Dense(20,activation='relu')\n",
    "f_4=Dense(10,activation='softmax')"
   ]
  },
  {
   "cell_type": "code",
   "execution_count": 57,
   "metadata": {},
   "outputs": [
    {
     "name": "stdout",
     "output_type": "stream",
     "text": [
      "Tensor(\"concatenate_3/concat:0\", shape=(?, 40), dtype=float32)\n",
      "Tensor(\"dense_38/Softmax:0\", shape=(?, 10), dtype=float32)\n"
     ]
    }
   ],
   "source": [
    "x = Input(shape=(784,))\n",
    "h1=f_1(x)\n",
    "h2=f_2(h1)\n",
    "h3_1=f_3_1(h2)\n",
    "h3_2=f_3_2(h2)\n",
    "h3=concatenate([h3_1,h3_2])\n",
    "y=f_4(h3)\n",
    "\n",
    "print(h3)\n",
    "print(y)"
   ]
  },
  {
   "cell_type": "code",
   "execution_count": 58,
   "metadata": {},
   "outputs": [
    {
     "name": "stdout",
     "output_type": "stream",
     "text": [
      "__________________________________________________________________________________________________\n",
      "Layer (type)                    Output Shape         Param #     Connected to                     \n",
      "==================================================================================================\n",
      "input_7 (InputLayer)            (None, 784)          0                                            \n",
      "__________________________________________________________________________________________________\n",
      "dense_34 (Dense)                (None, 60)           47100       input_7[0][0]                    \n",
      "__________________________________________________________________________________________________\n",
      "dense_35 (Dense)                (None, 40)           2440        dense_34[0][0]                   \n",
      "__________________________________________________________________________________________________\n",
      "dense_36 (Dense)                (None, 20)           820         dense_35[0][0]                   \n",
      "__________________________________________________________________________________________________\n",
      "dense_37 (Dense)                (None, 20)           820         dense_35[0][0]                   \n",
      "__________________________________________________________________________________________________\n",
      "concatenate_3 (Concatenate)     (None, 40)           0           dense_36[0][0]                   \n",
      "                                                                 dense_37[0][0]                   \n",
      "__________________________________________________________________________________________________\n",
      "dense_38 (Dense)                (None, 10)           410         concatenate_3[0][0]              \n",
      "==================================================================================================\n",
      "Total params: 51,590\n",
      "Trainable params: 51,590\n",
      "Non-trainable params: 0\n",
      "__________________________________________________________________________________________________\n"
     ]
    }
   ],
   "source": [
    "model = Model(x, y)\n",
    "model.summary()"
   ]
  },
  {
   "cell_type": "code",
   "execution_count": 59,
   "metadata": {},
   "outputs": [],
   "source": [
    "model.compile(loss='mse', optimizer=SGD(lr=0.3), metrics=['accuracy'])"
   ]
  },
  {
   "cell_type": "code",
   "execution_count": 60,
   "metadata": {},
   "outputs": [
    {
     "name": "stdout",
     "output_type": "stream",
     "text": [
      "Epoch 1/25\n",
      "60000/60000 [==============================] - 2s 38us/step - loss: 0.0889 - acc: 0.2077\n",
      "Epoch 2/25\n",
      "60000/60000 [==============================] - 1s 25us/step - loss: 0.0839 - acc: 0.3419\n",
      "Epoch 3/25\n",
      "60000/60000 [==============================] - 2s 25us/step - loss: 0.0757 - acc: 0.4554\n",
      "Epoch 4/25\n",
      "60000/60000 [==============================] - 2s 26us/step - loss: 0.0655 - acc: 0.5700\n",
      "Epoch 5/25\n",
      "60000/60000 [==============================] - 1s 24us/step - loss: 0.0539 - acc: 0.6338\n",
      "Epoch 6/25\n",
      "60000/60000 [==============================] - 1s 24us/step - loss: 0.0443 - acc: 0.7103\n",
      "Epoch 7/25\n",
      "60000/60000 [==============================] - 1s 23us/step - loss: 0.0366 - acc: 0.7924\n",
      "Epoch 8/25\n",
      "60000/60000 [==============================] - 1s 21us/step - loss: 0.0298 - acc: 0.8427\n",
      "Epoch 9/25\n",
      "60000/60000 [==============================] - 1s 22us/step - loss: 0.0243 - acc: 0.8700\n",
      "Epoch 10/25\n",
      "60000/60000 [==============================] - 1s 23us/step - loss: 0.0206 - acc: 0.8830\n",
      "Epoch 11/25\n",
      "60000/60000 [==============================] - 1s 24us/step - loss: 0.0184 - acc: 0.8915\n",
      "Epoch 12/25\n",
      "60000/60000 [==============================] - 2s 25us/step - loss: 0.0171 - acc: 0.8967\n",
      "Epoch 13/25\n",
      "60000/60000 [==============================] - 1s 22us/step - loss: 0.0157 - acc: 0.9042\n",
      "Epoch 14/25\n",
      "60000/60000 [==============================] - 1s 23us/step - loss: 0.0149 - acc: 0.9082\n",
      "Epoch 15/25\n",
      "60000/60000 [==============================] - 1s 21us/step - loss: 0.0143 - acc: 0.9102\n",
      "Epoch 16/25\n",
      "60000/60000 [==============================] - 1s 21us/step - loss: 0.0138 - acc: 0.9139\n",
      "Epoch 17/25\n",
      "60000/60000 [==============================] - 1s 20us/step - loss: 0.0133 - acc: 0.9163\n",
      "Epoch 18/25\n",
      "60000/60000 [==============================] - 1s 21us/step - loss: 0.0129 - acc: 0.9186\n",
      "Epoch 19/25\n",
      "60000/60000 [==============================] - 1s 19us/step - loss: 0.0125 - acc: 0.9208\n",
      "Epoch 20/25\n",
      "60000/60000 [==============================] - 1s 21us/step - loss: 0.0122 - acc: 0.9228\n",
      "Epoch 21/25\n",
      "60000/60000 [==============================] - 1s 19us/step - loss: 0.0120 - acc: 0.9241\n",
      "Epoch 22/25\n",
      "60000/60000 [==============================] - 1s 19us/step - loss: 0.0120 - acc: 0.9236\n",
      "Epoch 23/25\n",
      "60000/60000 [==============================] - 1s 19us/step - loss: 0.0115 - acc: 0.9268\n",
      "Epoch 24/25\n",
      "60000/60000 [==============================] - 1s 22us/step - loss: 0.0112 - acc: 0.9284\n",
      "Epoch 25/25\n",
      "60000/60000 [==============================] - 1s 20us/step - loss: 0.0109 - acc: 0.9311\n"
     ]
    },
    {
     "data": {
      "text/plain": [
       "<keras.callbacks.History at 0x1da1d6dbc50>"
      ]
     },
     "execution_count": 60,
     "metadata": {},
     "output_type": "execute_result"
    }
   ],
   "source": [
    "model.fit(x_train, y_train, batch_size=200, epochs=25)"
   ]
  },
  {
   "cell_type": "code",
   "execution_count": 61,
   "metadata": {},
   "outputs": [
    {
     "name": "stdout",
     "output_type": "stream",
     "text": [
      "60000/60000 [==============================] - 0s 8us/step\n",
      "Loss: 0.010494\n",
      "準確率: 93.346667\n"
     ]
    }
   ],
   "source": [
    "score = model.evaluate(x_train, y_train, batch_size=10000)\n",
    "print(\"Loss: %f\" %score[0])\n",
    "print(\"準確率: %f\" %(score[1]*100))"
   ]
  }
 ],
 "metadata": {
  "kernelspec": {
   "display_name": "Python 3",
   "language": "python",
   "name": "python3"
  },
  "language_info": {
   "codemirror_mode": {
    "name": "ipython",
    "version": 3
   },
   "file_extension": ".py",
   "mimetype": "text/x-python",
   "name": "python",
   "nbconvert_exporter": "python",
   "pygments_lexer": "ipython3",
   "version": "3.7.0"
  }
 },
 "nbformat": 4,
 "nbformat_minor": 2
}
